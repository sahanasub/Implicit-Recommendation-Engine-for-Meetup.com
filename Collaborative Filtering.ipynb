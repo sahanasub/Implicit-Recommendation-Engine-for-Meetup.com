{
  "nbformat": 4,
  "nbformat_minor": 0,
  "metadata": {
    "colab": {
      "name": "Marketing Analytics Project Version 2.ipynb",
      "provenance": [],
      "collapsed_sections": []
    },
    "kernelspec": {
      "name": "python3",
      "display_name": "Python 3"
    },
    "accelerator": "GPU"
  },
  "cells": [
    {
      "cell_type": "code",
      "metadata": {
        "id": "oiOpNgl_Ws6q",
        "colab_type": "code",
        "colab": {
          "base_uri": "https://localhost:8080/",
          "height": 33
        },
        "outputId": "aadbd4c8-6183-4897-90e8-3f0457964af7"
      },
      "source": [
        "#Mounting google drive to access meetups dataset\n",
        "from google.colab import drive\n",
        "drive.mount('/content/drive')"
      ],
      "execution_count": 45,
      "outputs": [
        {
          "output_type": "stream",
          "text": [
            "Drive already mounted at /content/drive; to attempt to forcibly remount, call drive.mount(\"/content/drive\", force_remount=True).\n"
          ],
          "name": "stdout"
        }
      ]
    },
    {
      "cell_type": "code",
      "metadata": {
        "id": "kZ4byVnbW9AB",
        "colab_type": "code",
        "outputId": "8c9a1b52-2d1f-4e71-b141-d5f94a20ea5b",
        "colab": {
          "base_uri": "https://localhost:8080/",
          "height": 137
        }
      },
      "source": [
        "import pandas as pd\n",
        "members = pd.read_csv('/content/drive/My Drive/Marketing Analytics Project/members_new.csv',encoding='latin-1')\n",
        "rsvp = pd.read_csv('/content/drive/My Drive/Marketing Analytics Project/rsvps_all_new.csv',encoding='latin-1')\n",
        "events  = pd.read_csv('/content/drive/My Drive/Marketing Analytics Project/events_all_new.csv',encoding='latin-1')\n",
        "groups = pd.read_csv('/content/drive/My Drive/Marketing Analytics Project/groups_austin.csv',encoding='latin-1')"
      ],
      "execution_count": 46,
      "outputs": [
        {
          "output_type": "stream",
          "text": [
            "/usr/local/lib/python3.6/dist-packages/IPython/core/interactiveshell.py:2718: DtypeWarning: Columns (9) have mixed types. Specify dtype option on import or set low_memory=False.\n",
            "  interactivity=interactivity, compiler=compiler, result=result)\n",
            "/usr/local/lib/python3.6/dist-packages/IPython/core/interactiveshell.py:2718: DtypeWarning: Columns (36) have mixed types. Specify dtype option on import or set low_memory=False.\n",
            "  interactivity=interactivity, compiler=compiler, result=result)\n",
            "/usr/local/lib/python3.6/dist-packages/IPython/core/interactiveshell.py:2718: DtypeWarning: Columns (44) have mixed types. Specify dtype option on import or set low_memory=False.\n",
            "  interactivity=interactivity, compiler=compiler, result=result)\n"
          ],
          "name": "stderr"
        }
      ]
    },
    {
      "cell_type": "code",
      "metadata": {
        "id": "8JETaROvXsip",
        "colab_type": "code",
        "outputId": "365f63e5-3df6-4b3e-9e20-aef34e4b6dca",
        "colab": {
          "base_uri": "https://localhost:8080/",
          "height": 184
        }
      },
      "source": [
        "members.columns.values"
      ],
      "execution_count": 47,
      "outputs": [
        {
          "output_type": "execute_result",
          "data": {
            "text/plain": [
              "array(['Unnamed: 0', 'Unnamed: 0.1', 'bio', 'city', 'country', 'group_id',\n",
              "       'hometown', 'id', 'joined', 'lang', 'lat', 'link', 'lon', 'name',\n",
              "       'other_services.facebook.identifier',\n",
              "       'other_services.flickr.identifier',\n",
              "       'other_services.linkedin.identifier',\n",
              "       'other_services.tumblr.identifier',\n",
              "       'other_services.twitter.identifier', 'photo.base_url',\n",
              "       'photo.highres_link', 'photo.photo_id', 'photo.photo_link',\n",
              "       'photo.thumb_link', 'photo.type', 'state', 'status', 'topics',\n",
              "       'visited'], dtype=object)"
            ]
          },
          "metadata": {
            "tags": []
          },
          "execution_count": 47
        }
      ]
    },
    {
      "cell_type": "markdown",
      "metadata": {
        "id": "MViJSeQKXz_6",
        "colab_type": "text"
      },
      "source": [
        "Members dataframe contains all details on each member:\n",
        "1. Id\n",
        "2. Joining date\n",
        "3. Demographics: City, countrt, State\n",
        "4. Social media details: Facebook, LinkedIn, Tumblr, Twitter\n"
      ]
    },
    {
      "cell_type": "code",
      "metadata": {
        "id": "RHl6ZBvXXwPU",
        "colab_type": "code",
        "outputId": "d0ac5a9b-d9f0-4f2a-f5a8-53691d1ae28d",
        "colab": {
          "base_uri": "https://localhost:8080/",
          "height": 217
        }
      },
      "source": [
        "events.columns.values"
      ],
      "execution_count": 48,
      "outputs": [
        {
          "output_type": "execute_result",
          "data": {
            "text/plain": [
              "array(['created', 'description', 'duration', 'event_url', 'fee.accepts',\n",
              "       'fee.amount', 'fee.currency', 'fee.description', 'fee.label',\n",
              "       'fee.required', 'group.created', 'group.group_lat',\n",
              "       'group.group_lon', 'group.id', 'group.join_mode', 'group.name',\n",
              "       'group.urlname', 'group.who', 'headcount', 'how_to_find_us', 'id',\n",
              "       'maybe_rsvp_count', 'name', 'photo_url', 'rsvp_limit', 'status',\n",
              "       'time', 'updated', 'utc_offset', 'venue.address_1',\n",
              "       'venue.address_2', 'venue.city', 'venue.country', 'venue.id',\n",
              "       'venue.lat', 'venue.localized_country_name', 'venue.lon',\n",
              "       'venue.name', 'venue.phone', 'venue.repinned', 'venue.state',\n",
              "       'venue.zip', 'visibility', 'waitlist_count', 'why',\n",
              "       'yes_rsvp_count'], dtype=object)"
            ]
          },
          "metadata": {
            "tags": []
          },
          "execution_count": 48
        }
      ]
    },
    {
      "cell_type": "markdown",
      "metadata": {
        "id": "_6_7QCxsYDhm",
        "colab_type": "text"
      },
      "source": [
        "Events dataframe contains all details on events:\n",
        "1. Which group the event belongs to\n",
        "2. Geographic details on event: Venue, city, country, zip code"
      ]
    },
    {
      "cell_type": "code",
      "metadata": {
        "id": "eQq9rXhbXx4o",
        "colab_type": "code",
        "outputId": "628c9a18-2dfb-4abb-a183-0a5d6d6a026c",
        "colab": {
          "base_uri": "https://localhost:8080/",
          "height": 201
        }
      },
      "source": [
        "groups.columns.values"
      ],
      "execution_count": 49,
      "outputs": [
        {
          "output_type": "execute_result",
          "data": {
            "text/plain": [
              "array(['Unnamed: 0', 'category.id', 'category.name', 'category.shortname',\n",
              "       'city', 'country', 'created', 'description',\n",
              "       'group_photo.base_url', 'group_photo.highres_link',\n",
              "       'group_photo.photo_id', 'group_photo.photo_link',\n",
              "       'group_photo.thumb_link', 'group_photo.type', 'id', 'join_mode',\n",
              "       'lat', 'link', 'lon', 'members', 'name', 'organizer.member_id',\n",
              "       'organizer.name', 'organizer.photo.base_url',\n",
              "       'organizer.photo.highres_link', 'organizer.photo.photo_id',\n",
              "       'organizer.photo.photo_link', 'organizer.photo.thumb_link',\n",
              "       'organizer.photo.type', 'rating', 'state', 'timezone', 'topics',\n",
              "       'urlname', 'utc_offset', 'visibility', 'who'], dtype=object)"
            ]
          },
          "metadata": {
            "tags": []
          },
          "execution_count": 49
        }
      ]
    },
    {
      "cell_type": "markdown",
      "metadata": {
        "id": "BklsbIflYLT_",
        "colab_type": "text"
      },
      "source": [
        "Groups dataframe consists details on each group:\n",
        "1. Organizer's details for each group\n",
        "2. Category for the group\n",
        "3. City and country"
      ]
    },
    {
      "cell_type": "code",
      "metadata": {
        "id": "eagKISbYYOoy",
        "colab_type": "code",
        "outputId": "f2b89122-ef07-4b21-a2d6-3f29c11698bb",
        "colab": {
          "base_uri": "https://localhost:8080/",
          "height": 234
        }
      },
      "source": [
        "rsvp.columns.values"
      ],
      "execution_count": 50,
      "outputs": [
        {
          "output_type": "execute_result",
          "data": {
            "text/plain": [
              "array(['created', 'event.event_url', 'event.id', 'event.name',\n",
              "       'event.time', 'group.created', 'group.group_lat',\n",
              "       'group.group_lon', 'group.id', 'group.join_mode', 'group.urlname',\n",
              "       'guests', 'member.member_id', 'member.name',\n",
              "       'member_photo.base_url', 'member_photo.highres_link',\n",
              "       'member_photo.photo_id', 'member_photo.photo_link',\n",
              "       'member_photo.thumb_link', 'member_photo.type', 'mtime',\n",
              "       'response', 'rsvp_id', 'tallies.maybe', 'tallies.no',\n",
              "       'tallies.waitlist', 'tallies.yes', 'venue.address_1',\n",
              "       'venue.address_2', 'venue.city', 'venue.country', 'venue.id',\n",
              "       'venue.lat', 'venue.localized_country_name', 'venue.lon',\n",
              "       'venue.name', 'venue.phone', 'venue.repinned', 'venue.state',\n",
              "       'venue.zip'], dtype=object)"
            ]
          },
          "metadata": {
            "tags": []
          },
          "execution_count": 50
        }
      ]
    },
    {
      "cell_type": "markdown",
      "metadata": {
        "id": "PFIgJFGjYboT",
        "colab_type": "text"
      },
      "source": [
        "Rsvp dataframe consists details on which event from a group a particular member rsvp'ed to."
      ]
    },
    {
      "cell_type": "code",
      "metadata": {
        "id": "qKLfPH2dYgye",
        "colab_type": "code",
        "colab": {}
      },
      "source": [
        "members = members[['group_id','id','name','topics','city']]\n",
        "groups = groups[['category.id','description','id','members','name','rating','topics']]\n",
        "events = events[['group.id','group.name','venue.city','id']]\n",
        "rsvp = rsvp[['event.id','group.id','member.member_id','response','rsvp_id','venue.city']]"
      ],
      "execution_count": 0,
      "outputs": []
    },
    {
      "cell_type": "code",
      "metadata": {
        "id": "KnYvVMIcYj55",
        "colab_type": "code",
        "outputId": "f5b7b272-360b-4d4e-e03a-2df7d23609ea",
        "colab": {
          "base_uri": "https://localhost:8080/",
          "height": 196
        }
      },
      "source": [
        "members.head()"
      ],
      "execution_count": 52,
      "outputs": [
        {
          "output_type": "execute_result",
          "data": {
            "text/html": [
              "<div>\n",
              "<style scoped>\n",
              "    .dataframe tbody tr th:only-of-type {\n",
              "        vertical-align: middle;\n",
              "    }\n",
              "\n",
              "    .dataframe tbody tr th {\n",
              "        vertical-align: top;\n",
              "    }\n",
              "\n",
              "    .dataframe thead th {\n",
              "        text-align: right;\n",
              "    }\n",
              "</style>\n",
              "<table border=\"1\" class=\"dataframe\">\n",
              "  <thead>\n",
              "    <tr style=\"text-align: right;\">\n",
              "      <th></th>\n",
              "      <th>group_id</th>\n",
              "      <th>id</th>\n",
              "      <th>name</th>\n",
              "      <th>topics</th>\n",
              "      <th>city</th>\n",
              "    </tr>\n",
              "  </thead>\n",
              "  <tbody>\n",
              "    <tr>\n",
              "      <th>0</th>\n",
              "      <td>10023</td>\n",
              "      <td>179008112.0</td>\n",
              "      <td>...</td>\n",
              "      <td>[]</td>\n",
              "      <td>Austin</td>\n",
              "    </tr>\n",
              "    <tr>\n",
              "      <th>1</th>\n",
              "      <td>10023</td>\n",
              "      <td>4099389.0</td>\n",
              "      <td>*!* Tonya P. *!*</td>\n",
              "      <td>[{'urlkey': 'ballroomdance', 'name': 'Ballroom...</td>\n",
              "      <td>Denver</td>\n",
              "    </tr>\n",
              "    <tr>\n",
              "      <th>2</th>\n",
              "      <td>10023</td>\n",
              "      <td>7436497.0</td>\n",
              "      <td>** Marcia S. **</td>\n",
              "      <td>[]</td>\n",
              "      <td>Austin</td>\n",
              "    </tr>\n",
              "    <tr>\n",
              "      <th>3</th>\n",
              "      <td>10023</td>\n",
              "      <td>291431587.0</td>\n",
              "      <td>1Barret1WemTD</td>\n",
              "      <td>[]</td>\n",
              "      <td>New York</td>\n",
              "    </tr>\n",
              "    <tr>\n",
              "      <th>4</th>\n",
              "      <td>10023</td>\n",
              "      <td>179208612.0</td>\n",
              "      <td>A</td>\n",
              "      <td>[]</td>\n",
              "      <td>Cedar Creek</td>\n",
              "    </tr>\n",
              "  </tbody>\n",
              "</table>\n",
              "</div>"
            ],
            "text/plain": [
              "   group_id  ...         city\n",
              "0     10023  ...       Austin\n",
              "1     10023  ...       Denver\n",
              "2     10023  ...       Austin\n",
              "3     10023  ...     New York\n",
              "4     10023  ...  Cedar Creek\n",
              "\n",
              "[5 rows x 5 columns]"
            ]
          },
          "metadata": {
            "tags": []
          },
          "execution_count": 52
        }
      ]
    },
    {
      "cell_type": "code",
      "metadata": {
        "id": "O8vhMtooYmNI",
        "colab_type": "code",
        "outputId": "f0ab2970-3621-46ca-f46f-cd065f2e3550",
        "colab": {
          "base_uri": "https://localhost:8080/",
          "height": 196
        }
      },
      "source": [
        "groups.head()"
      ],
      "execution_count": 53,
      "outputs": [
        {
          "output_type": "execute_result",
          "data": {
            "text/html": [
              "<div>\n",
              "<style scoped>\n",
              "    .dataframe tbody tr th:only-of-type {\n",
              "        vertical-align: middle;\n",
              "    }\n",
              "\n",
              "    .dataframe tbody tr th {\n",
              "        vertical-align: top;\n",
              "    }\n",
              "\n",
              "    .dataframe thead th {\n",
              "        text-align: right;\n",
              "    }\n",
              "</style>\n",
              "<table border=\"1\" class=\"dataframe\">\n",
              "  <thead>\n",
              "    <tr style=\"text-align: right;\">\n",
              "      <th></th>\n",
              "      <th>category.id</th>\n",
              "      <th>description</th>\n",
              "      <th>id</th>\n",
              "      <th>members</th>\n",
              "      <th>name</th>\n",
              "      <th>rating</th>\n",
              "      <th>topics</th>\n",
              "    </tr>\n",
              "  </thead>\n",
              "  <tbody>\n",
              "    <tr>\n",
              "      <th>0</th>\n",
              "      <td>1</td>\n",
              "      <td>&lt;p&gt;Meet kindred book lovers in a local Meetup ...</td>\n",
              "      <td>268001</td>\n",
              "      <td>192</td>\n",
              "      <td>The Austin Books and Chatter Group</td>\n",
              "      <td>4.80</td>\n",
              "      <td>[{'urlkey': 'classics', 'name': 'Classic Books...</td>\n",
              "    </tr>\n",
              "    <tr>\n",
              "      <th>1</th>\n",
              "      <td>1</td>\n",
              "      <td>&lt;p&gt;What is lifedrawing? Drawing the human figu...</td>\n",
              "      <td>1294488</td>\n",
              "      <td>4052</td>\n",
              "      <td>Austin Life Drawing Meetup Group</td>\n",
              "      <td>4.87</td>\n",
              "      <td>[{'urlkey': 'cartoonists', 'name': 'Cartoonist...</td>\n",
              "    </tr>\n",
              "    <tr>\n",
              "      <th>2</th>\n",
              "      <td>1</td>\n",
              "      <td>&lt;p&gt;We are a group of artists committed to Figu...</td>\n",
              "      <td>1633821</td>\n",
              "      <td>1432</td>\n",
              "      <td>Austin Drink-n-Draw</td>\n",
              "      <td>4.68</td>\n",
              "      <td>[{'urlkey': 'artistsway', 'name': \"The Artist'...</td>\n",
              "    </tr>\n",
              "    <tr>\n",
              "      <th>3</th>\n",
              "      <td>1</td>\n",
              "      <td>&lt;p&gt;The Austin Arts Collective is a group of pe...</td>\n",
              "      <td>1923631</td>\n",
              "      <td>3670</td>\n",
              "      <td>Austin Arts Collective</td>\n",
              "      <td>4.48</td>\n",
              "      <td>[{'urlkey': 'musicians', 'name': 'Musicians', ...</td>\n",
              "    </tr>\n",
              "    <tr>\n",
              "      <th>4</th>\n",
              "      <td>1</td>\n",
              "      <td>&lt;p&gt;&lt;strong&gt;Urban Sketchers - Austin&lt;/strong&gt; (...</td>\n",
              "      <td>2295011</td>\n",
              "      <td>833</td>\n",
              "      <td>Urban Sketchers - Austin</td>\n",
              "      <td>4.88</td>\n",
              "      <td>[{'urlkey': 'urbanexplor', 'name': 'Urban Expl...</td>\n",
              "    </tr>\n",
              "  </tbody>\n",
              "</table>\n",
              "</div>"
            ],
            "text/plain": [
              "   category.id  ...                                             topics\n",
              "0            1  ...  [{'urlkey': 'classics', 'name': 'Classic Books...\n",
              "1            1  ...  [{'urlkey': 'cartoonists', 'name': 'Cartoonist...\n",
              "2            1  ...  [{'urlkey': 'artistsway', 'name': \"The Artist'...\n",
              "3            1  ...  [{'urlkey': 'musicians', 'name': 'Musicians', ...\n",
              "4            1  ...  [{'urlkey': 'urbanexplor', 'name': 'Urban Expl...\n",
              "\n",
              "[5 rows x 7 columns]"
            ]
          },
          "metadata": {
            "tags": []
          },
          "execution_count": 53
        }
      ]
    },
    {
      "cell_type": "markdown",
      "metadata": {
        "id": "3eMsoad4eeT4",
        "colab_type": "text"
      },
      "source": [
        "Creating a single table with group id, member id and the rsvp count of a member to that group"
      ]
    },
    {
      "cell_type": "code",
      "metadata": {
        "id": "E9eI5b3hZnOm",
        "colab_type": "code",
        "outputId": "f5b4e529-45ac-4533-dfe5-21be739addf8",
        "colab": {
          "base_uri": "https://localhost:8080/",
          "height": 196
        }
      },
      "source": [
        "#Data Preprocessing\n",
        "main_data = pd.merge(rsvp, events, left_on= 'event.id', right_on='id', how='inner')\n",
        "temp_data = main_data[['event.id', 'member.member_id', 'group.id_x', 'group.name']] \n",
        "main_data_2 = temp_data.groupby(['group.id_x','member.member_id']).size().reset_index()\n",
        "main_data_2.columns = ['group_id', 'member_id','rsvp_sum']\n",
        "main_data_2.head()"
      ],
      "execution_count": 54,
      "outputs": [
        {
          "output_type": "execute_result",
          "data": {
            "text/html": [
              "<div>\n",
              "<style scoped>\n",
              "    .dataframe tbody tr th:only-of-type {\n",
              "        vertical-align: middle;\n",
              "    }\n",
              "\n",
              "    .dataframe tbody tr th {\n",
              "        vertical-align: top;\n",
              "    }\n",
              "\n",
              "    .dataframe thead th {\n",
              "        text-align: right;\n",
              "    }\n",
              "</style>\n",
              "<table border=\"1\" class=\"dataframe\">\n",
              "  <thead>\n",
              "    <tr style=\"text-align: right;\">\n",
              "      <th></th>\n",
              "      <th>group_id</th>\n",
              "      <th>member_id</th>\n",
              "      <th>rsvp_sum</th>\n",
              "    </tr>\n",
              "  </thead>\n",
              "  <tbody>\n",
              "    <tr>\n",
              "      <th>0</th>\n",
              "      <td>10023</td>\n",
              "      <td>6682417</td>\n",
              "      <td>1</td>\n",
              "    </tr>\n",
              "    <tr>\n",
              "      <th>1</th>\n",
              "      <td>10023</td>\n",
              "      <td>13480894</td>\n",
              "      <td>1</td>\n",
              "    </tr>\n",
              "    <tr>\n",
              "      <th>2</th>\n",
              "      <td>10023</td>\n",
              "      <td>155423252</td>\n",
              "      <td>3</td>\n",
              "    </tr>\n",
              "    <tr>\n",
              "      <th>3</th>\n",
              "      <td>10023</td>\n",
              "      <td>161784042</td>\n",
              "      <td>1</td>\n",
              "    </tr>\n",
              "    <tr>\n",
              "      <th>4</th>\n",
              "      <td>10023</td>\n",
              "      <td>201386263</td>\n",
              "      <td>1</td>\n",
              "    </tr>\n",
              "  </tbody>\n",
              "</table>\n",
              "</div>"
            ],
            "text/plain": [
              "   group_id  member_id  rsvp_sum\n",
              "0     10023    6682417         1\n",
              "1     10023   13480894         1\n",
              "2     10023  155423252         3\n",
              "3     10023  161784042         1\n",
              "4     10023  201386263         1"
            ]
          },
          "metadata": {
            "tags": []
          },
          "execution_count": 54
        }
      ]
    },
    {
      "cell_type": "code",
      "metadata": {
        "id": "VKnXdo8N3Eyn",
        "colab_type": "code",
        "colab": {
          "base_uri": "https://localhost:8080/",
          "height": 33
        },
        "outputId": "b797855b-7f2c-403a-dcfa-da58bccbdb3d"
      },
      "source": [
        "main_data_2=(main_data_2[main_data_2['rsvp_sum']>2])\n",
        "len(main_data_2)"
      ],
      "execution_count": 121,
      "outputs": [
        {
          "output_type": "execute_result",
          "data": {
            "text/plain": [
              "1469"
            ]
          },
          "metadata": {
            "tags": []
          },
          "execution_count": 121
        }
      ]
    },
    {
      "cell_type": "markdown",
      "metadata": {
        "id": "hv6th_mG4VeD",
        "colab_type": "text"
      },
      "source": [
        "Filtering out users who have atleast rsvp'ed for more than 2 events in a group"
      ]
    },
    {
      "cell_type": "code",
      "metadata": {
        "id": "OnlRLtSpbvac",
        "colab_type": "code",
        "colab": {}
      },
      "source": [
        "#standardizing to 1 - 10 scale \n",
        "main_data_2['rsvp_total'] = 1 + (main_data_2['rsvp_sum']-main_data_2['rsvp_sum'].min())*(10-1)/(main_data_2['rsvp_sum'].max()\\\n",
        "                                                                                                -main_data_2['rsvp_sum'].min())"
      ],
      "execution_count": 0,
      "outputs": []
    },
    {
      "cell_type": "code",
      "metadata": {
        "id": "kjDQZjTXcChC",
        "colab_type": "code",
        "outputId": "01e89706-708a-4fef-d558-3455d02cc2fb",
        "colab": {
          "base_uri": "https://localhost:8080/",
          "height": 33
        }
      },
      "source": [
        "len(main_data_2)"
      ],
      "execution_count": 71,
      "outputs": [
        {
          "output_type": "execute_result",
          "data": {
            "text/plain": [
              "1469"
            ]
          },
          "metadata": {
            "tags": []
          },
          "execution_count": 71
        }
      ]
    },
    {
      "cell_type": "code",
      "metadata": {
        "id": "6Q4xyMthcot7",
        "colab_type": "code",
        "colab": {}
      },
      "source": [
        "main_data_2.sort_values(by='rsvp_total',ascending=False)\n",
        "data=main_data_2[['group_id','member_id','rsvp_total']]"
      ],
      "execution_count": 0,
      "outputs": []
    },
    {
      "cell_type": "code",
      "metadata": {
        "id": "1LZ0oDjKcwZr",
        "colab_type": "code",
        "colab": {}
      },
      "source": [
        "data = main_data_2.dropna()\n",
        "data = data.copy()\n",
        "\n",
        "# Converting the numbers to categories to be used for creating the categorical codes to avoid using long hash keys \n",
        "data['member_id'] = data['member_id'].astype('category')\n",
        "data['group_id'] = data['group_id'].astype('category')\n",
        "\n",
        "#cat.codes creates a categorical id for the users and groups\n",
        "data['user_id'] = data['member_id'].cat.codes\n",
        "data['grp_id'] = data['group_id'].cat.codes"
      ],
      "execution_count": 0,
      "outputs": []
    },
    {
      "cell_type": "code",
      "metadata": {
        "id": "5TL5HKOec6OF",
        "colab_type": "code",
        "colab": {}
      },
      "source": [
        "users=data[['user_id','grp_id','rsvp_total']]"
      ],
      "execution_count": 0,
      "outputs": []
    },
    {
      "cell_type": "markdown",
      "metadata": {
        "id": "WnOzucahc_Rj",
        "colab_type": "text"
      },
      "source": [
        "Users dataframe which has the user id, group id and normalized rsvp sum. This will be used primarily in order to perform collaborative filtering."
      ]
    },
    {
      "cell_type": "code",
      "metadata": {
        "id": "aw8gLCqKdKhB",
        "colab_type": "code",
        "outputId": "4ae9d0eb-4185-4550-a1c9-79b8c1f58d33",
        "colab": {
          "base_uri": "https://localhost:8080/",
          "height": 196
        }
      },
      "source": [
        "users.head()"
      ],
      "execution_count": 75,
      "outputs": [
        {
          "output_type": "execute_result",
          "data": {
            "text/html": [
              "<div>\n",
              "<style scoped>\n",
              "    .dataframe tbody tr th:only-of-type {\n",
              "        vertical-align: middle;\n",
              "    }\n",
              "\n",
              "    .dataframe tbody tr th {\n",
              "        vertical-align: top;\n",
              "    }\n",
              "\n",
              "    .dataframe thead th {\n",
              "        text-align: right;\n",
              "    }\n",
              "</style>\n",
              "<table border=\"1\" class=\"dataframe\">\n",
              "  <thead>\n",
              "    <tr style=\"text-align: right;\">\n",
              "      <th></th>\n",
              "      <th>user_id</th>\n",
              "      <th>grp_id</th>\n",
              "      <th>rsvp_total</th>\n",
              "    </tr>\n",
              "  </thead>\n",
              "  <tbody>\n",
              "    <tr>\n",
              "      <th>2</th>\n",
              "      <td>709</td>\n",
              "      <td>0</td>\n",
              "      <td>1.000000</td>\n",
              "    </tr>\n",
              "    <tr>\n",
              "      <th>5</th>\n",
              "      <td>1098</td>\n",
              "      <td>0</td>\n",
              "      <td>1.060134</td>\n",
              "    </tr>\n",
              "    <tr>\n",
              "      <th>6</th>\n",
              "      <td>1099</td>\n",
              "      <td>0</td>\n",
              "      <td>1.013363</td>\n",
              "    </tr>\n",
              "    <tr>\n",
              "      <th>9</th>\n",
              "      <td>7</td>\n",
              "      <td>1</td>\n",
              "      <td>1.060134</td>\n",
              "    </tr>\n",
              "    <tr>\n",
              "      <th>11</th>\n",
              "      <td>3</td>\n",
              "      <td>2</td>\n",
              "      <td>1.060134</td>\n",
              "    </tr>\n",
              "  </tbody>\n",
              "</table>\n",
              "</div>"
            ],
            "text/plain": [
              "    user_id  grp_id  rsvp_total\n",
              "2       709       0    1.000000\n",
              "5      1098       0    1.060134\n",
              "6      1099       0    1.013363\n",
              "9         7       1    1.060134\n",
              "11        3       2    1.060134"
            ]
          },
          "metadata": {
            "tags": []
          },
          "execution_count": 75
        }
      ]
    },
    {
      "cell_type": "code",
      "metadata": {
        "id": "q8abIczmdMZh",
        "colab_type": "code",
        "colab": {}
      },
      "source": [
        "#Create list of groups for each user\n",
        "users_groups=users.groupby('user_id')['grp_id'].apply(list)\n",
        "users_groupslist=users_groups.to_list()"
      ],
      "execution_count": 0,
      "outputs": []
    },
    {
      "cell_type": "code",
      "metadata": {
        "id": "2mIFzgiNdPWM",
        "colab_type": "code",
        "colab": {}
      },
      "source": [
        "#Finding cosine similarity between two vectors\n",
        "def dot(v,w):\n",
        "    \"\"\" v_1*w_1 + ... v_n*w_n\"\"\"\n",
        "    return sum(v_i *w_i\n",
        "              for v_i,w_i in zip(v,w))\n",
        "def cosine_similarity(v, w):\n",
        "    return dot(v, w) / math.sqrt(dot(v, v) * dot(w, w))"
      ],
      "execution_count": 0,
      "outputs": []
    },
    {
      "cell_type": "code",
      "metadata": {
        "id": "cFogfiHfdRM0",
        "colab_type": "code",
        "outputId": "e1fe551d-7af3-4803-9e21-9b069d334af9",
        "colab": {
          "base_uri": "https://localhost:8080/",
          "height": 33
        }
      },
      "source": [
        "#Creating user-rsvp matrix for all groups\n",
        "users_df = pd.pivot_table(users, index='user_id', columns='grp_id', values='rsvp_total')\n",
        "users_df.fillna(0,inplace=True)\n",
        "users_df=pd.DataFrame(users_df)\n",
        "users_df.shape"
      ],
      "execution_count": 78,
      "outputs": [
        {
          "output_type": "execute_result",
          "data": {
            "text/plain": [
              "(1300, 562)"
            ]
          },
          "metadata": {
            "tags": []
          },
          "execution_count": 78
        }
      ]
    },
    {
      "cell_type": "code",
      "metadata": {
        "id": "3ezXGQ9YdTg_",
        "colab_type": "code",
        "colab": {}
      },
      "source": [
        "#Converting dataframe to list of lists\n",
        "users_df = users_df.rename_axis(None, axis=1)\n",
        "users_list=users_df.values.tolist()"
      ],
      "execution_count": 0,
      "outputs": []
    },
    {
      "cell_type": "code",
      "metadata": {
        "id": "YUCmbsFWdWaX",
        "colab_type": "code",
        "colab": {}
      },
      "source": [
        "#Finding cosine similarity between users\n",
        "import math\n",
        "user_similarities = [[cosine_similarity(group_vector_i, group_vector_j)\n",
        "                      for group_vector_j in users_list]\n",
        "                     for group_vector_i in users_list]"
      ],
      "execution_count": 0,
      "outputs": []
    },
    {
      "cell_type": "code",
      "metadata": {
        "id": "mk5ySj6FmRay",
        "colab_type": "code",
        "outputId": "373fb28c-8eaf-42e4-aa43-f9659aad778d",
        "colab": {
          "base_uri": "https://localhost:8080/",
          "height": 33
        }
      },
      "source": [
        "len(user_similarities)"
      ],
      "execution_count": 81,
      "outputs": [
        {
          "output_type": "execute_result",
          "data": {
            "text/plain": [
              "1300"
            ]
          },
          "metadata": {
            "tags": []
          },
          "execution_count": 81
        }
      ]
    },
    {
      "cell_type": "code",
      "metadata": {
        "id": "BZYqzTiRdYP_",
        "colab_type": "code",
        "colab": {}
      },
      "source": [
        "#Finding most similar users\n",
        "def most_similar_users_to(user_id):\n",
        "    pairs = [(other_user_id, similarity)              \n",
        "             for other_user_id, similarity in         \n",
        "                enumerate(user_similarities[user_id]) \n",
        "             if user_id != other_user_id and similarity > 0]\n",
        "\n",
        "    return sorted(pairs,                              \n",
        "                  key=lambda pair: pair[1],           \n",
        "                  reverse=True) "
      ],
      "execution_count": 0,
      "outputs": []
    },
    {
      "cell_type": "code",
      "metadata": {
        "id": "r3Z4lncCmkee",
        "colab_type": "code",
        "colab": {
          "base_uri": "https://localhost:8080/",
          "height": 33
        },
        "outputId": "ca40e082-bba8-49a9-aa21-2b1af32166a8"
      },
      "source": [
        "most_similar_users_to(40)"
      ],
      "execution_count": 87,
      "outputs": [
        {
          "output_type": "execute_result",
          "data": {
            "text/plain": [
              "[(12, 1.0), (209, 1.0), (475, 1.0)]"
            ]
          },
          "metadata": {
            "tags": []
          },
          "execution_count": 87
        }
      ]
    },
    {
      "cell_type": "code",
      "metadata": {
        "id": "GtVKuX_fdmpX",
        "colab_type": "code",
        "colab": {}
      },
      "source": [
        "#Finding group suggestions based on similar users\n",
        "from collections import defaultdict, Counter\n",
        "def user_based_suggestions(user_id, include_current_groups=True):\n",
        "    suggestions = defaultdict(float)\n",
        "    for other_user_id, similarity in most_similar_users_to(user_id):\n",
        "        for groups in users_groupslist[other_user_id]:\n",
        "            suggestions[groups] += similarity\n",
        "\n",
        "    suggestions = sorted(suggestions.items(),\n",
        "                         key=lambda pair: pair[1],\n",
        "                         reverse=True)\n",
        "    \n",
        "    if include_current_groups:\n",
        "        return suggestions\n",
        "    else:\n",
        "        return [(suggestion, weight)\n",
        "                for suggestion, weight in suggestions\n",
        "                    if suggestion not in users_groupslist[user_id]]"
      ],
      "execution_count": 0,
      "outputs": []
    },
    {
      "cell_type": "code",
      "metadata": {
        "id": "t0aBG8a3dqxF",
        "colab_type": "code",
        "outputId": "4ef95f39-0a70-4e38-b348-a879e96147de",
        "colab": {
          "base_uri": "https://localhost:8080/",
          "height": 117
        }
      },
      "source": [
        "#Finding Recommendations for user id 40\n",
        "top_tuple=user_based_suggestions(100)[0:5]\n",
        "top_list=[x[0] for x in top_tuple]\n",
        "top_groups=data[data['grp_id'].isin(top_list)]['group_id'].unique()\n",
        "top_groupnames=events[events['group.id'].isin(top_groups)]['group.name']\n",
        "top_groupnames=top_groupnames.unique()\n",
        "print(\"Recommendations based on user based collaborative filtering:\")\n",
        "for i in range(len(top_groupnames)):\n",
        "    print(top_groupnames[i])"
      ],
      "execution_count": 115,
      "outputs": [
        {
          "output_type": "stream",
          "text": [
            "Recommendations based on user based collaborative filtering:\n",
            "Austin Dance Lessons and Social Events\n",
            "Austin Dance Social Meetup\n",
            "Austin Salsa Bachata Dance and Social Events\n",
            "Austin Swing Dance and Social Events\n",
            "Austin Country Dance and Social Events\n"
          ],
          "name": "stdout"
        }
      ]
    },
    {
      "cell_type": "markdown",
      "metadata": {
        "id": "tbuWm9QEd579",
        "colab_type": "text"
      },
      "source": [
        "Item based collaborative filtering"
      ]
    },
    {
      "cell_type": "code",
      "metadata": {
        "id": "LSHtgEFld8gu",
        "colab_type": "code",
        "colab": {}
      },
      "source": [
        "#Creating group-rsvp matrix for all users\n",
        "groups_list_new=[]\n",
        "groups_df = pd.pivot_table(users, index='grp_id', columns='user_id', values='rsvp_total')\n",
        "groups_df.fillna(0,inplace=True)\n",
        "groups_df=pd.DataFrame(groups_df)\n",
        "groups_df = groups_df.rename_axis(None, axis=1)\n",
        "groups_list=groups_df.values.tolist()"
      ],
      "execution_count": 0,
      "outputs": []
    },
    {
      "cell_type": "code",
      "metadata": {
        "id": "l6nZDzaleCF0",
        "colab_type": "code",
        "colab": {}
      },
      "source": [
        "#Creating complete list of unique groups across all users\n",
        "flat_list = [item for sublist in users_groupslist for item in sublist]\n",
        "list_set = set(flat_list) \n",
        "unique_list = (list(list_set)) "
      ],
      "execution_count": 0,
      "outputs": []
    },
    {
      "cell_type": "code",
      "metadata": {
        "id": "hl5EyH5eeCxR",
        "colab_type": "code",
        "colab": {}
      },
      "source": [
        "import math\n",
        "#Finding cosine similarity between movies\n",
        "group_similarities = [[cosine_similarity(user_vector_i, user_vector_j)\n",
        "                          for user_vector_j in groups_list]\n",
        "                          for user_vector_i in groups_list]"
      ],
      "execution_count": 0,
      "outputs": []
    },
    {
      "cell_type": "code",
      "metadata": {
        "id": "EXO_SE3VeFRl",
        "colab_type": "code",
        "colab": {}
      },
      "source": [
        "#Finding most similar groups\n",
        "def most_similar_groups_to(group_id):\n",
        "    similarities = group_similarities[group_id]\n",
        "    pairs = [(unique_list[other_group_id], similarity)\n",
        "             for other_group_id, similarity in enumerate(similarities)\n",
        "             if group_id != other_group_id and similarity > 0]\n",
        "    return sorted(pairs,\n",
        "                  key=lambda pair: pair[1],\n",
        "                  reverse=True)"
      ],
      "execution_count": 0,
      "outputs": []
    },
    {
      "cell_type": "code",
      "metadata": {
        "id": "FWqPMF_LeH6U",
        "colab_type": "code",
        "colab": {}
      },
      "source": [
        "#Finding group suggestions\n",
        "from collections import defaultdict, Counter\n",
        "def group_based_suggestions(user_id, include_current_groups=True):\n",
        "    suggestions = defaultdict(float)\n",
        "    user_vector=users_list[user_id]\n",
        "    for group_id, rsvp_count in enumerate(user_vector):\n",
        "        if rsvp_count!=0:\n",
        "            similar_groups=most_similar_groups_to(group_id)\n",
        "            for groups,similarity in similar_groups:\n",
        "                suggestions[groups] += similarity\n",
        "\n",
        "    suggestions = sorted(suggestions.items(),\n",
        "                         key=lambda pair: pair[1],\n",
        "                         reverse=True)\n",
        "    \n",
        "    if include_current_groups:\n",
        "        return suggestions\n",
        "    else:\n",
        "        return [(suggestion, weight)\n",
        "                for suggestion, weight in suggestions\n",
        "                    if suggestion not in users_groupslist[user_id]]"
      ],
      "execution_count": 0,
      "outputs": []
    },
    {
      "cell_type": "code",
      "metadata": {
        "id": "ejkd9hdmeKOT",
        "colab_type": "code",
        "colab": {
          "base_uri": "https://localhost:8080/",
          "height": 117
        },
        "outputId": "e1da579d-793d-41cb-919e-557957dd8e63"
      },
      "source": [
        "#Finding top 5 group names for user id 40\n",
        "top_tuple=group_based_suggestions(100)[0:5]\n",
        "top_list=[x[0] for x in top_tuple]\n",
        "top_groups=data[data['grp_id'].isin(top_list)]['group_id'].unique()\n",
        "top_groupnames=events[events['group.id'].isin(top_groups)]['group.name']\n",
        "top_groupnames=top_groupnames.unique()\n",
        "print(\"Recommendations based on item based collaborative filtering:\")\n",
        "for i in range(len(top_groupnames)):\n",
        "    print(top_groupnames[i])"
      ],
      "execution_count": 113,
      "outputs": [
        {
          "output_type": "stream",
          "text": [
            "Recommendations based on item based collaborative filtering:\n",
            "Austin Dance Social Meetup\n",
            "Austin Salsa Bachata Dance and Social Events\n",
            "Austin Argentine Tango and Social Events\n",
            "Austin Swing Dance and Social Events\n",
            "Austin Country Dance and Social Events\n"
          ],
          "name": "stdout"
        }
      ]
    },
    {
      "cell_type": "code",
      "metadata": {
        "id": "HwML8Bhg5rnj",
        "colab_type": "code",
        "colab": {}
      },
      "source": [
        ""
      ],
      "execution_count": 0,
      "outputs": []
    }
  ]
}