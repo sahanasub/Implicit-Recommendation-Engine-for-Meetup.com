{
 "cells": [
  {
   "cell_type": "markdown",
   "metadata": {},
   "source": [
    "### Meetup.com Recommendation Systems\n",
    "### Data Pre-processing "
   ]
  },
  {
   "cell_type": "code",
   "execution_count": 1,
   "metadata": {},
   "outputs": [],
   "source": [
    "import numpy as np\n",
    "import pandas as pd\n",
    "import random\n",
    "from tqdm import tqdm\n",
    "import math\n",
    "from datetime import datetime"
   ]
  },
  {
   "cell_type": "markdown",
   "metadata": {},
   "source": [
    "#### Load the Datasets"
   ]
  },
  {
   "cell_type": "code",
   "execution_count": 2,
   "metadata": {},
   "outputs": [
    {
     "name": "stderr",
     "output_type": "stream",
     "text": [
      "C:\\Users\\Sahana\\Anaconda3\\lib\\site-packages\\IPython\\core\\interactiveshell.py:3057: DtypeWarning: Columns (9) have mixed types. Specify dtype option on import or set low_memory=False.\n",
      "  interactivity=interactivity, compiler=compiler, result=result)\n",
      "C:\\Users\\Sahana\\Anaconda3\\lib\\site-packages\\IPython\\core\\interactiveshell.py:3057: DtypeWarning: Columns (36) have mixed types. Specify dtype option on import or set low_memory=False.\n",
      "  interactivity=interactivity, compiler=compiler, result=result)\n",
      "C:\\Users\\Sahana\\Anaconda3\\lib\\site-packages\\IPython\\core\\interactiveshell.py:3057: DtypeWarning: Columns (44) have mixed types. Specify dtype option on import or set low_memory=False.\n",
      "  interactivity=interactivity, compiler=compiler, result=result)\n"
     ]
    }
   ],
   "source": [
    "members = pd.read_csv('members_new.csv',encoding='latin-1')\n",
    "rsvp = pd.read_csv('rsvps_all_new.csv',encoding='latin-1')\n",
    "events  = pd.read_csv('events_all_new.csv',encoding='latin-1')\n",
    "groups = pd.read_csv('groups_austin.csv',encoding='latin-1')"
   ]
  },
  {
   "cell_type": "code",
   "execution_count": 8,
   "metadata": {},
   "outputs": [
    {
     "data": {
      "text/plain": [
       "35629"
      ]
     },
     "execution_count": 8,
     "metadata": {},
     "output_type": "execute_result"
    }
   ],
   "source": [
    "events['id'].nunique()"
   ]
  },
  {
   "cell_type": "code",
   "execution_count": 3,
   "metadata": {},
   "outputs": [],
   "source": [
    "## Set to display all the columns\n",
    "pd.set_option('display.max_rows', 500)\n",
    "pd.set_option('display.max_columns', 500)"
   ]
  },
  {
   "cell_type": "code",
   "execution_count": 6,
   "metadata": {},
   "outputs": [
    {
     "data": {
      "text/plain": [
       "Unnamed: 0                              31362\n",
       "Unnamed: 0.1                            31362\n",
       "bio                                    121753\n",
       "city                                     4503\n",
       "country                                   138\n",
       "group_id                                 2273\n",
       "hometown                                 9047\n",
       "id                                     299630\n",
       "joined                                1157139\n",
       "lang                                        1\n",
       "lat                                      2947\n",
       "link                                   299189\n",
       "lon                                      4630\n",
       "name                                   220975\n",
       "other_services.facebook.identifier      14306\n",
       "other_services.flickr.identifier          675\n",
       "other_services.linkedin.identifier       1436\n",
       "other_services.tumblr.identifier          783\n",
       "other_services.twitter.identifier        9785\n",
       "photo.base_url                              1\n",
       "photo.highres_link                     218872\n",
       "photo.photo_id                         239942\n",
       "photo.photo_link                       239942\n",
       "photo.thumb_link                       239942\n",
       "photo.type                                  1\n",
       "state                                     172\n",
       "status                                      2\n",
       "topics                                 196258\n",
       "visited                               1215245\n",
       "dtype: int64"
      ]
     },
     "execution_count": 6,
     "metadata": {},
     "output_type": "execute_result"
    }
   ],
   "source": [
    "members.nunique()"
   ]
  },
  {
   "cell_type": "markdown",
   "metadata": {},
   "source": [
    "#### Members, Groups, Events and RSVP\n",
    "Get all the required columns from the dataframes"
   ]
  },
  {
   "cell_type": "code",
   "execution_count": 44,
   "metadata": {},
   "outputs": [],
   "source": [
    "members = members[['group_id','id','name','joined','visited','topics']]\n",
    "members['id'] = members['id'].astype(int)"
   ]
  },
  {
   "cell_type": "code",
   "execution_count": 45,
   "metadata": {},
   "outputs": [
    {
     "data": {
      "text/html": [
       "<div>\n",
       "<style scoped>\n",
       "    .dataframe tbody tr th:only-of-type {\n",
       "        vertical-align: middle;\n",
       "    }\n",
       "\n",
       "    .dataframe tbody tr th {\n",
       "        vertical-align: top;\n",
       "    }\n",
       "\n",
       "    .dataframe thead th {\n",
       "        text-align: right;\n",
       "    }\n",
       "</style>\n",
       "<table border=\"1\" class=\"dataframe\">\n",
       "  <thead>\n",
       "    <tr style=\"text-align: right;\">\n",
       "      <th></th>\n",
       "      <th>group_id</th>\n",
       "      <th>id</th>\n",
       "      <th>name</th>\n",
       "      <th>joined</th>\n",
       "      <th>visited</th>\n",
       "      <th>topics</th>\n",
       "    </tr>\n",
       "  </thead>\n",
       "  <tbody>\n",
       "    <tr>\n",
       "      <th>0</th>\n",
       "      <td>10023</td>\n",
       "      <td>179008112</td>\n",
       "      <td>...</td>\n",
       "      <td>1.492474e+12</td>\n",
       "      <td>1.492474e+12</td>\n",
       "      <td>[]</td>\n",
       "    </tr>\n",
       "    <tr>\n",
       "      <th>1</th>\n",
       "      <td>10023</td>\n",
       "      <td>4099389</td>\n",
       "      <td>*!* Tonya P. *!*</td>\n",
       "      <td>1.552514e+12</td>\n",
       "      <td>1.563500e+12</td>\n",
       "      <td>[{'urlkey': 'ballroomdance', 'name': 'Ballroom...</td>\n",
       "    </tr>\n",
       "    <tr>\n",
       "      <th>2</th>\n",
       "      <td>10023</td>\n",
       "      <td>7436497</td>\n",
       "      <td>** Marcia S. **</td>\n",
       "      <td>1.213335e+12</td>\n",
       "      <td>1.213853e+12</td>\n",
       "      <td>[]</td>\n",
       "    </tr>\n",
       "    <tr>\n",
       "      <th>3</th>\n",
       "      <td>10023</td>\n",
       "      <td>291431587</td>\n",
       "      <td>1Barret1WemTD</td>\n",
       "      <td>1.570863e+12</td>\n",
       "      <td>1.571010e+12</td>\n",
       "      <td>[]</td>\n",
       "    </tr>\n",
       "    <tr>\n",
       "      <th>4</th>\n",
       "      <td>10023</td>\n",
       "      <td>179208612</td>\n",
       "      <td>A</td>\n",
       "      <td>1.414026e+12</td>\n",
       "      <td>1.426009e+12</td>\n",
       "      <td>[]</td>\n",
       "    </tr>\n",
       "  </tbody>\n",
       "</table>\n",
       "</div>"
      ],
      "text/plain": [
       "   group_id         id              name        joined       visited  \\\n",
       "0     10023  179008112               ...  1.492474e+12  1.492474e+12   \n",
       "1     10023    4099389  *!* Tonya P. *!*  1.552514e+12  1.563500e+12   \n",
       "2     10023    7436497   ** Marcia S. **  1.213335e+12  1.213853e+12   \n",
       "3     10023  291431587     1Barret1WemTD  1.570863e+12  1.571010e+12   \n",
       "4     10023  179208612                 A  1.414026e+12  1.426009e+12   \n",
       "\n",
       "                                              topics  \n",
       "0                                                 []  \n",
       "1  [{'urlkey': 'ballroomdance', 'name': 'Ballroom...  \n",
       "2                                                 []  \n",
       "3                                                 []  \n",
       "4                                                 []  "
      ]
     },
     "execution_count": 45,
     "metadata": {},
     "output_type": "execute_result"
    }
   ],
   "source": [
    "members.head()"
   ]
  },
  {
   "cell_type": "code",
   "execution_count": 7,
   "metadata": {},
   "outputs": [],
   "source": [
    "groups = groups[['category.id','description','id','members','name','rating','topics','urlname','who']]"
   ]
  },
  {
   "cell_type": "code",
   "execution_count": 10,
   "metadata": {},
   "outputs": [],
   "source": [
    "events = events[['group.id','group.urlname','group.name','group.who','id']]"
   ]
  },
  {
   "cell_type": "code",
   "execution_count": 12,
   "metadata": {},
   "outputs": [],
   "source": [
    "rsvp = rsvp[['event.id','group.id','member.member_id','response','rsvp_id']]"
   ]
  },
  {
   "cell_type": "markdown",
   "metadata": {},
   "source": [
    "#### Number of events organized by each group"
   ]
  },
  {
   "cell_type": "code",
   "execution_count": 13,
   "metadata": {},
   "outputs": [],
   "source": [
    "## Get the number of events in each group\n",
    "group_events = pd.DataFrame(events.groupby('group.id')[\"id\"].nunique()).reset_index()\n",
    "group_events = group_events.rename(columns = {'id':'count_of_events'})"
   ]
  },
  {
   "cell_type": "markdown",
   "metadata": {},
   "source": [
    "#### Number of RSVPs for each member per group\n",
    "This is the number of events of a particular group that a member has RSVP'd for."
   ]
  },
  {
   "cell_type": "code",
   "execution_count": 14,
   "metadata": {},
   "outputs": [],
   "source": [
    "rsvp_data = pd.DataFrame(rsvp.groupby(['group.id','member.member_id'])['rsvp_id'].count())\n",
    "rsvp_data = rsvp_data.reset_index().rename(columns = {'rsvp_id':'count_of_rsvps'})"
   ]
  },
  {
   "cell_type": "markdown",
   "metadata": {},
   "source": [
    "#### Merge the event count and RSVP information with the members dataframe"
   ]
  },
  {
   "cell_type": "code",
   "execution_count": 15,
   "metadata": {},
   "outputs": [],
   "source": [
    "## Merge members and rsvp_data on member_id and group_id to get the RSVP information for each member and group.\n",
    "members_rsvp = members.merge(rsvp_data, left_on =['group_id','id'],right_on=['group.id','member.member_id'], how='left')\n",
    "members_rsvp = members_rsvp[['name','group_id',\"id\",\"count_of_rsvps\"]]"
   ]
  },
  {
   "cell_type": "code",
   "execution_count": 17,
   "metadata": {},
   "outputs": [],
   "source": [
    "## Merge the new dataset with group_events to get the number of events organized by each group\n",
    "members_rsvp = members_rsvp.merge(group_events, left_on ='group_id', right_on ='group.id')"
   ]
  },
  {
   "cell_type": "code",
   "execution_count": 18,
   "metadata": {},
   "outputs": [],
   "source": [
    "members_rsvp[\"count_of_rsvps\"].fillna(0, inplace=True)\n",
    "members_rsvp[\"count_of_events\"].fillna(0, inplace=True)"
   ]
  },
  {
   "cell_type": "markdown",
   "metadata": {},
   "source": [
    "#### Calculate the number of events of a group that a member has RSVP'd for by the total number of events organized by the group"
   ]
  },
  {
   "cell_type": "code",
   "execution_count": 19,
   "metadata": {},
   "outputs": [],
   "source": [
    "members_rsvp[\"rsvp_for_events\"] = members_rsvp[\"count_of_rsvps\"]/members_rsvp[\"count_of_events\"]\n",
    "members_rsvp = members_rsvp[[\"group_id\",\"id\",\"rsvp_for_events\",'name']]"
   ]
  },
  {
   "cell_type": "code",
   "execution_count": 20,
   "metadata": {},
   "outputs": [],
   "source": [
    "members_rsvp[\"rsvp_for_events\"].fillna(0, inplace=True)"
   ]
  },
  {
   "cell_type": "code",
   "execution_count": 22,
   "metadata": {},
   "outputs": [],
   "source": [
    "## Scale this ratio to be between 1 and 10\n",
    "members_rsvp['rsvp_total'] = 1 + (members_rsvp['rsvp_for_events']-members_rsvp['rsvp_for_events'].min())*(10-1)/(members_rsvp['rsvp_for_events'].max()-members_rsvp['rsvp_for_events'].min())"
   ]
  },
  {
   "cell_type": "markdown",
   "metadata": {},
   "source": [
    "#### Save this into a .csv file for further processing"
   ]
  },
  {
   "cell_type": "code",
   "execution_count": 24,
   "metadata": {},
   "outputs": [],
   "source": [
    "members_rsvp.to_csv(\"members_rsvp.csv\")"
   ]
  },
  {
   "cell_type": "markdown",
   "metadata": {},
   "source": [
    "### Time-delta implicit recommendation\n",
    "#### Convert the joined and visited date to datetime format"
   ]
  },
  {
   "cell_type": "code",
   "execution_count": 53,
   "metadata": {},
   "outputs": [],
   "source": [
    "members_delta = members.dropna(subset = ['joined'])"
   ]
  },
  {
   "cell_type": "code",
   "execution_count": 55,
   "metadata": {},
   "outputs": [
    {
     "name": "stderr",
     "output_type": "stream",
     "text": [
      "C:\\Users\\Sahana\\Anaconda3\\lib\\site-packages\\ipykernel_launcher.py:1: SettingWithCopyWarning: \n",
      "A value is trying to be set on a copy of a slice from a DataFrame.\n",
      "Try using .loc[row_indexer,col_indexer] = value instead\n",
      "\n",
      "See the caveats in the documentation: http://pandas.pydata.org/pandas-docs/stable/indexing.html#indexing-view-versus-copy\n",
      "  \"\"\"Entry point for launching an IPython kernel.\n"
     ]
    }
   ],
   "source": [
    "members_delta[\"joined\"] = members_delta[\"joined\"].apply(lambda x: datetime.fromtimestamp(float(x)/1000.))"
   ]
  },
  {
   "cell_type": "code",
   "execution_count": 57,
   "metadata": {},
   "outputs": [],
   "source": [
    "members_delta = members_delta.dropna(subset = ['visited'])"
   ]
  },
  {
   "cell_type": "code",
   "execution_count": 58,
   "metadata": {},
   "outputs": [],
   "source": [
    "members_delta[\"visited\"] = members_delta[\"visited\"].apply(lambda x: datetime.fromtimestamp(float(x)/1000.))"
   ]
  },
  {
   "cell_type": "code",
   "execution_count": 59,
   "metadata": {},
   "outputs": [
    {
     "data": {
      "text/html": [
       "<div>\n",
       "<style scoped>\n",
       "    .dataframe tbody tr th:only-of-type {\n",
       "        vertical-align: middle;\n",
       "    }\n",
       "\n",
       "    .dataframe tbody tr th {\n",
       "        vertical-align: top;\n",
       "    }\n",
       "\n",
       "    .dataframe thead th {\n",
       "        text-align: right;\n",
       "    }\n",
       "</style>\n",
       "<table border=\"1\" class=\"dataframe\">\n",
       "  <thead>\n",
       "    <tr style=\"text-align: right;\">\n",
       "      <th></th>\n",
       "      <th>group_id</th>\n",
       "      <th>id</th>\n",
       "      <th>name</th>\n",
       "      <th>joined</th>\n",
       "      <th>visited</th>\n",
       "      <th>topics</th>\n",
       "    </tr>\n",
       "  </thead>\n",
       "  <tbody>\n",
       "    <tr>\n",
       "      <th>0</th>\n",
       "      <td>10023</td>\n",
       "      <td>179008112</td>\n",
       "      <td>...</td>\n",
       "      <td>2017-04-17 19:03:08</td>\n",
       "      <td>2017-04-17 19:03:08</td>\n",
       "      <td>[]</td>\n",
       "    </tr>\n",
       "    <tr>\n",
       "      <th>1</th>\n",
       "      <td>10023</td>\n",
       "      <td>4099389</td>\n",
       "      <td>*!* Tonya P. *!*</td>\n",
       "      <td>2019-03-13 16:55:30</td>\n",
       "      <td>2019-07-18 20:29:36</td>\n",
       "      <td>[{'urlkey': 'ballroomdance', 'name': 'Ballroom...</td>\n",
       "    </tr>\n",
       "    <tr>\n",
       "      <th>2</th>\n",
       "      <td>10023</td>\n",
       "      <td>7436497</td>\n",
       "      <td>** Marcia S. **</td>\n",
       "      <td>2008-06-13 00:30:28</td>\n",
       "      <td>2008-06-19 00:20:30</td>\n",
       "      <td>[]</td>\n",
       "    </tr>\n",
       "    <tr>\n",
       "      <th>3</th>\n",
       "      <td>10023</td>\n",
       "      <td>291431587</td>\n",
       "      <td>1Barret1WemTD</td>\n",
       "      <td>2019-10-12 01:49:03</td>\n",
       "      <td>2019-10-13 18:48:15</td>\n",
       "      <td>[]</td>\n",
       "    </tr>\n",
       "    <tr>\n",
       "      <th>4</th>\n",
       "      <td>10023</td>\n",
       "      <td>179208612</td>\n",
       "      <td>A</td>\n",
       "      <td>2014-10-22 19:54:05</td>\n",
       "      <td>2015-03-10 12:30:53</td>\n",
       "      <td>[]</td>\n",
       "    </tr>\n",
       "  </tbody>\n",
       "</table>\n",
       "</div>"
      ],
      "text/plain": [
       "   group_id         id              name              joined  \\\n",
       "0     10023  179008112               ... 2017-04-17 19:03:08   \n",
       "1     10023    4099389  *!* Tonya P. *!* 2019-03-13 16:55:30   \n",
       "2     10023    7436497   ** Marcia S. ** 2008-06-13 00:30:28   \n",
       "3     10023  291431587     1Barret1WemTD 2019-10-12 01:49:03   \n",
       "4     10023  179208612                 A 2014-10-22 19:54:05   \n",
       "\n",
       "              visited                                             topics  \n",
       "0 2017-04-17 19:03:08                                                 []  \n",
       "1 2019-07-18 20:29:36  [{'urlkey': 'ballroomdance', 'name': 'Ballroom...  \n",
       "2 2008-06-19 00:20:30                                                 []  \n",
       "3 2019-10-13 18:48:15                                                 []  \n",
       "4 2015-03-10 12:30:53                                                 []  "
      ]
     },
     "execution_count": 59,
     "metadata": {},
     "output_type": "execute_result"
    }
   ],
   "source": [
    "members_delta.head()"
   ]
  },
  {
   "cell_type": "code",
   "execution_count": 60,
   "metadata": {},
   "outputs": [],
   "source": [
    "members_delta['joined'] = pd.to_datetime(members_delta['joined'])\n",
    "members_delta['visited'] = pd.to_datetime(members_delta['visited'])"
   ]
  },
  {
   "cell_type": "code",
   "execution_count": 61,
   "metadata": {},
   "outputs": [],
   "source": [
    "members_delta['delta'] = (members_delta['visited'] - members_delta['joined']).astype('timedelta64[M]')\n",
    "members_delta['delta'] = members_delta['delta'].replace(to_replace = 0.0, value = 1.0)"
   ]
  },
  {
   "cell_type": "code",
   "execution_count": 64,
   "metadata": {},
   "outputs": [],
   "source": [
    "## Scale this ratio to be between 1 and 10\n",
    "members_delta['delta'] = 1 + (members_delta['delta']-members_delta['delta'].min())*(10-1)/(members_delta['delta'].max()-members_delta['delta'].min())"
   ]
  },
  {
   "cell_type": "code",
   "execution_count": 65,
   "metadata": {},
   "outputs": [],
   "source": [
    "## Get the required columns\n",
    "members_delta = members_delta[['group_id','id','joined','visited','delta']]"
   ]
  },
  {
   "cell_type": "markdown",
   "metadata": {},
   "source": [
    "#### Save this into a .csv file for further processing"
   ]
  },
  {
   "cell_type": "code",
   "execution_count": 66,
   "metadata": {},
   "outputs": [],
   "source": [
    "members_delta.to_csv(\"members_delta.csv\")"
   ]
  }
 ],
 "metadata": {
  "kernelspec": {
   "display_name": "Python 3",
   "language": "python",
   "name": "python3"
  },
  "language_info": {
   "codemirror_mode": {
    "name": "ipython",
    "version": 3
   },
   "file_extension": ".py",
   "mimetype": "text/x-python",
   "name": "python",
   "nbconvert_exporter": "python",
   "pygments_lexer": "ipython3",
   "version": "3.7.3"
  }
 },
 "nbformat": 4,
 "nbformat_minor": 2
}
