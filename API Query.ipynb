{
 "cells": [
  {
   "cell_type": "code",
   "execution_count": 1,
   "metadata": {},
   "outputs": [],
   "source": [
    "import meetup.api\n",
    "import json\n",
    "import requests\n",
    "import time\n",
    "import codecs\n",
    "import sys\n",
    "import io\n",
    "import pandas as pd\n",
    "import numpy as np\n",
    "import datetime as dt\n",
    "\n",
    "import matplotlib.pyplot as plt\n",
    "import seaborn as sns"
   ]
  },
  {
   "cell_type": "code",
   "execution_count": 2,
   "metadata": {},
   "outputs": [],
   "source": [
    "nrows = 100000000000\n",
    "events = pd.read_csv('events.csv',encoding='latin-1',nrows=nrows)"
   ]
  },
  {
   "cell_type": "code",
   "execution_count": 8,
   "metadata": {},
   "outputs": [],
   "source": [
    "event_ids = list(events['event_id'])\n",
    "temp=event_ids[5400:5999] # 0:5399 done..\n",
    "wait_limit = list(range(199,5807,200))\n",
    "except_count = 0\n",
    "df2 = events[['event_id','group.urlname']]\n",
    "event_group_url = dict(sorted(df2.values.tolist()))\n",
    "\n",
    "final_result = dict.fromkeys(event_ids , [])\n",
    "\n",
    "#id change list here!\n",
    "for index, event_id in enumerate(temp):\n",
    "    if index in wait_limit: ############\n",
    "        time.sleep(3600) #######\n",
    "    event_id = str(event_id)\n",
    "    url_name = event_group_url[event_id]\n",
    "    string = 'https://api.meetup.com/'+ url_name+ '/events/'+ event_id + '/rsvps?&key=1c7c7e503a3b4037143168583c1f1515'\n",
    "    df = requests.get(string)\n",
    "    data = df.json()\n",
    "    for i in range(len(data)):\n",
    "        try:\n",
    "            member_id = data[i]['member']['id']\n",
    "            if len(final_result[event_id]) == 0:\n",
    "                final_result[event_id] = [member_id]\n",
    "            else:\n",
    "                final_result[event_id].append(member_id)\n",
    "        except:\n",
    "            except_count+=1\n",
    "final_result_df = pd.DataFrame.from_dict(final_result, orient='index').T.unstack().dropna().reset_index(level=1,drop=True)\n",
    "final_result_df = pd.DataFrame(final_result_df)\n",
    "final_result_df.reset_index(inplace=True)\n",
    "final_result_df.columns = ['event_id', 'member_id']\n",
    "import time\n",
    "final_result_df.to_csv('final_result_df' + str(time.time()) + '.csv')"
   ]
  }
 ],
 "metadata": {
  "kernelspec": {
   "display_name": "Python 3",
   "language": "python",
   "name": "python3"
  },
  "language_info": {
   "codemirror_mode": {
    "name": "ipython",
    "version": 3
   },
   "file_extension": ".py",
   "mimetype": "text/x-python",
   "name": "python",
   "nbconvert_exporter": "python",
   "pygments_lexer": "ipython3",
   "version": "3.7.3"
  }
 },
 "nbformat": 4,
 "nbformat_minor": 2
}
